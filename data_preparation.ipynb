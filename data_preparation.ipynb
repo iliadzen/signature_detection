{
 "cells": [
  {
   "cell_type": "code",
   "execution_count": 1,
   "id": "4799c7ff",
   "metadata": {},
   "outputs": [],
   "source": [
    "import os\n",
    "import xml.etree.ElementTree as ET\n",
    "import cv2\n",
    "import numpy as np\n",
    "import shutil"
   ]
  },
  {
   "cell_type": "markdown",
   "id": "30a9302c",
   "metadata": {},
   "source": [
    "### Before the start:\n",
    "1) Download dataset from http://tc11.cvc.uab.es/datasets/Tobacco800_1 (login needed)\n",
    "\n",
    "2) Unarchive it and two folders inside it\n",
    "\n",
    "3) Move each folders with files from *Tobacco800_SinglePage* and *Tobacc800_Groundtruth_v2.0* folders to *data/Tobacco* folder and rename them as *Images* and *XMLs* respectively"
   ]
  },
  {
   "cell_type": "code",
   "execution_count": 2,
   "id": "6aaf1027",
   "metadata": {},
   "outputs": [],
   "source": [
    "path = 'data/Tobacco/Signatures/'"
   ]
  },
  {
   "cell_type": "markdown",
   "id": "7a9e26fd",
   "metadata": {},
   "source": [
    "### Signatures extraction (1 class)"
   ]
  },
  {
   "cell_type": "code",
   "execution_count": 6,
   "id": "58240167",
   "metadata": {},
   "outputs": [],
   "source": [
    "os.mkdir(path + '1')"
   ]
  },
  {
   "cell_type": "code",
   "execution_count": 7,
   "id": "5937a6b6",
   "metadata": {},
   "outputs": [
    {
     "name": "stdout",
     "output_type": "stream",
     "text": [
      "Extracted 910 signatures\n"
     ]
    }
   ],
   "source": [
    "i = 0\n",
    "for filename in os.listdir(path + 'XMLs'):\n",
    "    root = ET.parse(path + 'XMLs/' + filename)\n",
    "    # signature position (top left corner coordinates, height and width) is under DL_ZONE tag\n",
    "    zones = root.findall('.//{http://lamp.cfar.umd.edu/GEDI}DL_ZONE')\n",
    "    for zone in zones:\n",
    "        elem = zone.attrib\n",
    "        if(elem['gedi_type'] == 'DLSignature'):\n",
    "            t, l, h, w = list(map(int, [elem['row'], elem['col'], elem['height'], elem['width']]))\n",
    "            img = cv2.imread(path + 'Images/' + filename[:-4] + '.tif')\n",
    "            img = img[t:t+h, l:l+w]\n",
    "            cv2.imwrite(path + f'1/{i}.png', img)\n",
    "            i+=1\n",
    "            \n",
    "print(f'Extracted {i} signatures')"
   ]
  },
  {
   "cell_type": "markdown",
   "id": "aafb5bcc",
   "metadata": {},
   "source": [
    "### Random document frafment sampling (0 class)"
   ]
  },
  {
   "cell_type": "code",
   "execution_count": 9,
   "id": "f031c1cf",
   "metadata": {},
   "outputs": [],
   "source": [
    "os.mkdir(path + '0')"
   ]
  },
  {
   "cell_type": "code",
   "execution_count": 11,
   "id": "3fcdb81a",
   "metadata": {},
   "outputs": [],
   "source": [
    "signs = os.listdir(path + '1')\n",
    "imgs = os.listdir(path + 'Images')"
   ]
  },
  {
   "cell_type": "code",
   "execution_count": 12,
   "id": "5251cdc0",
   "metadata": {},
   "outputs": [],
   "source": [
    "# save shapes of cropped images to find max and min values\n",
    "# this values then will be used to choose size of fragment randomly in this range\n",
    "sizes = np.empty((0,2), int)\n",
    "for filename in signs:\n",
    "    img = cv2.imread(path + '1/' + filename)\n",
    "    sizes = np.concatenate((sizes, np.array([img.shape[:2]])))"
   ]
  },
  {
   "cell_type": "code",
   "execution_count": 17,
   "id": "a79b3a25",
   "metadata": {},
   "outputs": [
    {
     "name": "stdout",
     "output_type": "stream",
     "text": [
      "Max height: 579\n",
      "Min height: 33\n",
      "Max width: 1142\n",
      "Min width: 69\n"
     ]
    }
   ],
   "source": [
    "max_h, min_h, max_w, min_w = np.max(sizes[:,0]), np.min(sizes[:,0]), np.max(sizes[:,1]), np.min(sizes[:,1])\n",
    "print('Max height:', max_h)\n",
    "print('Min height:', min_h)\n",
    "print('Max width:', max_w)\n",
    "print('Min width:', min_w)"
   ]
  },
  {
   "cell_type": "code",
   "execution_count": 18,
   "id": "645e092c",
   "metadata": {},
   "outputs": [],
   "source": [
    "samples = 1100\n",
    "# this is slightly more than ammount of signs (910), because some fragments will contain signatures and handwriten text\n",
    "# and need to be removed manually\n",
    "# as a result it left 950 fragments"
   ]
  },
  {
   "cell_type": "code",
   "execution_count": 29,
   "id": "1adff6ae",
   "metadata": {},
   "outputs": [],
   "source": [
    "for i in range(samples):\n",
    "    n = np.random.randint(len(imgs)-1)\n",
    "    img = cv2.imread(path + 'Images/' + imgs[n])\n",
    "    h = np.random.randint(min_h, max_h if img.shape[0] > max_h else img.shape[0]) \n",
    "    w = np.random.randint(min_w, max_w if img.shape[1] > max_w else img.shape[1]) \n",
    "    t, l = np.random.randint(img.shape[0]-h), np.random.randint(img.shape[1]-w)\n",
    "    img = img[t:t+h, l:l+w]\n",
    "    cv2.imwrite(path + f'0/{i}.png', img)"
   ]
  },
  {
   "cell_type": "markdown",
   "id": "d6a5e2d2",
   "metadata": {},
   "source": [
    "### Train/validation/test split"
   ]
  },
  {
   "cell_type": "code",
   "execution_count": 30,
   "id": "7fd4a173",
   "metadata": {},
   "outputs": [],
   "source": [
    "split_rates = [0.7, 0.2, 0.1]"
   ]
  },
  {
   "cell_type": "code",
   "execution_count": 37,
   "id": "57d345ee",
   "metadata": {},
   "outputs": [],
   "source": [
    "path = 'data/Tobacco/Signatures/'"
   ]
  },
  {
   "cell_type": "code",
   "execution_count": 38,
   "id": "d7dab889",
   "metadata": {},
   "outputs": [],
   "source": [
    "for label in ['0/', '1/']:\n",
    "    for img in os.listdir(path + label):\n",
    "        new_folder = np.random.choice(['train/', 'val/', 'test/'], p=split_rates, replace=False)\n",
    "        new_path = path + new_folder + label\n",
    "        if(not os.path.exists(new_path)):\n",
    "            os.makedirs(new_path)\n",
    "        shutil.move(path + label + img, new_path + img)"
   ]
  },
  {
   "cell_type": "code",
   "execution_count": 43,
   "id": "81359a60",
   "metadata": {},
   "outputs": [
    {
     "name": "stdout",
     "output_type": "stream",
     "text": [
      "Train size: 1295\n",
      "Validation size: 387\n",
      "Test size: 177\n"
     ]
    }
   ],
   "source": [
    "print('Train size:', len(os.listdir(path + 'train/0')) + len(os.listdir(path + 'train/1')))\n",
    "print('Validation size:', len(os.listdir(path + 'val/0')) + len(os.listdir(path + 'val/1')))\n",
    "print('Test size:', len(os.listdir(path + 'test/0')) + len(os.listdir(path + 'test/1')))"
   ]
  },
  {
   "cell_type": "code",
   "execution_count": null,
   "id": "dcdfff3b",
   "metadata": {},
   "outputs": [],
   "source": []
  }
 ],
 "metadata": {
  "kernelspec": {
   "display_name": "Python 3",
   "language": "python",
   "name": "python3"
  },
  "language_info": {
   "codemirror_mode": {
    "name": "ipython",
    "version": 3
   },
   "file_extension": ".py",
   "mimetype": "text/x-python",
   "name": "python",
   "nbconvert_exporter": "python",
   "pygments_lexer": "ipython3",
   "version": "3.8.8"
  }
 },
 "nbformat": 4,
 "nbformat_minor": 5
}
